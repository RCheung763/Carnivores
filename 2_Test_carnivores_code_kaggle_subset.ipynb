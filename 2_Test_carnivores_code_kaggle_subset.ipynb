{
 "cells": [
  {
   "cell_type": "markdown",
   "metadata": {},
   "source": [
    "This uses the first Kaggle dataset, same sample size, same class distribution"
   ]
  },
  {
   "cell_type": "code",
   "execution_count": 1,
   "metadata": {
    "id": "GM-5IFE1ccIr"
   },
   "outputs": [],
   "source": [
    "# Import libraries\n",
    "\n",
    "import numpy as np\n",
    "import pandas as pd\n",
    "\n",
    "import os\n",
    "\n",
    "os.environ[\"KERAS_BACKEND\"] = \"tensorflow\"\n",
    "\n",
    "import keras\n",
    "import tensorflow as tf\n",
    "import numpy as np\n",
    "from keras import layers\n",
    "\n",
    "import string\n",
    "import re\n",
    "\n",
    "from sklearn.metrics import confusion_matrix, ConfusionMatrixDisplay\n",
    "import matplotlib.pyplot as plt\n",
    "from sklearn.preprocessing import LabelEncoder\n",
    "\n",
    "#!pip install -U libsvm-official"
   ]
  },
  {
   "cell_type": "code",
   "execution_count": 2,
   "metadata": {},
   "outputs": [
    {
     "data": {
      "text/plain": [
       "'/Users/rubyc/Desktop/NLP'"
      ]
     },
     "execution_count": 2,
     "metadata": {},
     "output_type": "execute_result"
    }
   ],
   "source": [
    "import os \n",
    "os.getcwd()"
   ]
  },
  {
   "cell_type": "code",
   "execution_count": 3,
   "metadata": {},
   "outputs": [
    {
     "name": "stdout",
     "output_type": "stream",
     "text": [
      "# of obs in train_df: 18467\n",
      "Class distribution in train_df sentiment\n",
      "1.0    9685\n",
      "0.0    8782\n",
      "Name: count, dtype: int64\n"
     ]
    }
   ],
   "source": [
    "# read in test dataset \n",
    "test_df = pd.read_csv(\"~/Desktop/NLP/data/sentiment analysis dataset/test.csv\", encoding='utf-8') \n",
    "# one-hot encode class column\n",
    "test_df['sentiment'] = test_df['sentiment'].map({'positive' : 1, 'negative' : 0})\n",
    "test_df = test_df[pd.notna(test_df['sentiment'])]\n",
    "\n",
    "# read in train dataset\n",
    "train_df = pd.read_csv(\"~/Desktop/NLP/data/sentiment analysis dataset/train.csv\", encoding='utf-8') \n",
    "train_df['sentiment'] = train_df['sentiment'].map({'positive' : 1, 'negative' : 0})\n",
    "train_df = train_df[pd.notna(train_df['sentiment'])]\n",
    "\n",
    "# Concatenate \n",
    "input_df = pd.concat([test_df, train_df], ignore_index = True)\n",
    "print(\"# of obs in train_df:\", len(input_df))\n",
    "print('Class distribution in train_df', input_df['sentiment'].value_counts())\n",
    "\n",
    "# Convert text column to string\n",
    "input_df['text'] = input_df['text'].astype(str)\n",
    "input_df = input_df[pd.notna(input_df['sentiment'])]"
   ]
  },
  {
   "cell_type": "markdown",
   "metadata": {},
   "source": [
    "Class distribution on Carnivores dataset\n",
    "Training class counts: Counter({1: 90, 0: 35})\n",
    "Training class distribution: {1: 0.72, 0: 0.28}\n",
    "Validation class counts: Counter({1: 15, 0: 10})\n",
    "Validation class distribution: {0: 0.4, 1: 0.6}\n",
    "Test class counts: Counter({0: 4, 1: 3})\n",
    "Test class distribution: {0: 0.5714285714285714, 1: 0.42857142857142855}"
   ]
  },
  {
   "cell_type": "markdown",
   "metadata": {},
   "source": [
    "## Creating subsets with same class distribution as carnivores dataset"
   ]
  },
  {
   "cell_type": "code",
   "execution_count": 6,
   "metadata": {},
   "outputs": [],
   "source": [
    "# Splitting the training and test dataset by class\n",
    "pos = input_df[input_df['sentiment'] == 1]\n",
    "neg = input_df[input_df['sentiment'] == 0]"
   ]
  },
  {
   "cell_type": "code",
   "execution_count": 7,
   "metadata": {},
   "outputs": [
    {
     "name": "stdout",
     "output_type": "stream",
     "text": [
      "training class distribution: sentiment\n",
      "1.0    90\n",
      "0.0    35\n",
      "Name: count, dtype: int64\n",
      "validation class distribution: sentiment\n",
      "1.0    15\n",
      "0.0    10\n",
      "Name: count, dtype: int64\n",
      "sentiment\n",
      "0.0    4\n",
      "1.0    3\n",
      "Name: count, dtype: int64\n"
     ]
    }
   ],
   "source": [
    "# create new datasets training, validation, and test set with the same number of observations and the same class distribution\n",
    "\n",
    "def new_df(positive, negative, num_observation1, num_observation2, random_state):\n",
    "    \n",
    "    # subset dataframe \n",
    "    new_df1 = positive.sample(n = num_observation1, random_state = random_state)\n",
    "    new_df2 = negative.sample(n = num_observation2, random_state = random_state)\n",
    "    \n",
    "    # Concatenate and shuffle\n",
    "    new_dataframe = pd.concat([new_df1, new_df2], ignore_index = True).sample(frac = 1, random_state = random_state)\n",
    "    \n",
    "    return new_dataframe\n",
    "\n",
    "# training set\n",
    "train = new_df(pos, neg, 90, 35, 1337)\n",
    "\n",
    "# check class distribution\n",
    "print(\"training class distribution:\", train['sentiment'].value_counts())\n",
    "\n",
    "# Remove the sampled observations from the original datasets\n",
    "train_subset_pos = train[train['sentiment'] == 1]\n",
    "train_subset_neg = train[train['sentiment'] == 0]\n",
    "\n",
    "remaining_pos = pos[~pos.isin(train_subset_pos)].dropna()\n",
    "remaining_neg = neg[~neg.isin(train_subset_neg)].dropna()\n",
    "\n",
    "# validation\n",
    "validation = new_df(remaining_pos, remaining_neg, 15, 10, 1337)\n",
    "# check class distribution\n",
    "print(\"validation class distribution:\", validation['sentiment'].value_counts())\n",
    "\n",
    "validation_subset_pos = validation[validation['sentiment'] == 1]\n",
    "validation_subset_neg = validation[validation['sentiment'] == 0]\n",
    "\n",
    "remaining_pos = remaining_pos[~remaining_pos.isin(validation_subset_pos)].dropna()\n",
    "remaining_neg = remaining_neg[~remaining_neg.isin(validation_subset_neg)].dropna()\n",
    "\n",
    "# create new training dataset\n",
    "test = new_df(remaining_pos, remaining_neg, 3, 4, 1337)\n",
    "\n",
    "# check class distribution\n",
    "print(test['sentiment'].value_counts())"
   ]
  },
  {
   "cell_type": "code",
   "execution_count": 8,
   "metadata": {},
   "outputs": [],
   "source": [
    "# Convert 'text' to string\n",
    "train['text'] = train['text'].astype(str)\n",
    "validation['text'] = validation['text'].astype(str)\n",
    "test['text'] = test['text'].astype(str)\n",
    "\n",
    "# Convert 'sentiment' to integer\n",
    "train['sentiment'] = train['sentiment'].astype(int)\n",
    "validation['sentiment'] = validation['sentiment'].astype(int)\n",
    "test['sentiment'] = test['sentiment'].astype(int)"
   ]
  },
  {
   "cell_type": "code",
   "execution_count": 40,
   "metadata": {},
   "outputs": [],
   "source": [
    "# Shuffle \n",
    "train = train.sample(frac=1, random_state=1337).reset_index(drop=True)\n",
    "validation = validation.sample(frac=1, random_state=1337).reset_index(drop=True)\n",
    "test = test.sample(frac=1, random_state=1337).reset_index(drop=True)\n"
   ]
  },
  {
   "cell_type": "markdown",
   "metadata": {
    "id": "7my7g68OMm35"
   },
   "source": [
    "# [Example](https://colab.research.google.com/github/keras-team/keras-io/blob/master/examples/nlp/ipynb/text_classification_from_scratch.ipynb#scrollTo=CoUCSwSHdgPR)\n",
    "\n",
    "\n"
   ]
  },
  {
   "cell_type": "code",
   "execution_count": 10,
   "metadata": {
    "colab": {
     "base_uri": "https://localhost:8080/"
    },
    "id": "O3u1hz3B1BLK",
    "outputId": "08ad4158-f7b1-4340-acad-d04fa5d03efd"
   },
   "outputs": [
    {
     "name": "stdout",
     "output_type": "stream",
     "text": [
      "b' i did, thanks laura'\n",
      "1\n",
      "b'Is happy...Skool just let out..! Today was my last day..! Yippee! R.I.P Jackson Tyler Morris..! Always Loved And Never Forgotten..!'\n",
      "1\n",
      "b' good luck going to sleep. i`m up working on a stupid paper. no worries. ur not alone.  so u ready to record that album or what?'\n",
      "1\n",
      "b' So sad...found otu about your boot camp too late.   Oh well, may be in LA that day anyway.'\n",
      "0\n",
      "b'  Great!  I was hoping to run under 40mins and ended up doing 39:07  Woo hoo!  Gotta love the C25k'\n",
      "1\n"
     ]
    },
    {
     "name": "stderr",
     "output_type": "stream",
     "text": [
      "2024-09-30 17:55:16.071983: I tensorflow/core/framework/local_rendezvous.cc:404] Local rendezvous is aborting with status: OUT_OF_RANGE: End of sequence\n"
     ]
    }
   ],
   "source": [
    "# Creating a tensorflow object\n",
    "\n",
    "batch_size = 32\n",
    "shuffle_buffer_size = 10000\n",
    "\n",
    "# Training set\n",
    "text_tensor = tf.convert_to_tensor(train['text'].values, dtype=tf.string)\n",
    "label_tensor = tf.convert_to_tensor(train['sentiment'].values)\n",
    "\n",
    "raw_train_ds = tf.data.Dataset.from_tensor_slices((text_tensor, label_tensor))\n",
    "raw_train_ds = raw_train_ds.shuffle(shuffle_buffer_size).batch(batch_size)\n",
    "\n",
    "# Validation set\n",
    "text_tensor = tf.convert_to_tensor(validation['text'].values, dtype=tf.string)\n",
    "label_tensor = tf.convert_to_tensor(validation['sentiment'].values)\n",
    "\n",
    "raw_val_ds = tf.data.Dataset.from_tensor_slices((text_tensor, label_tensor))\n",
    "raw_val_ds = raw_val_ds.batch(batch_size)\n",
    "\n",
    "# Test set\n",
    "text_tensor = tf.convert_to_tensor(test['text'].values, dtype=tf.string)\n",
    "label_tensor = tf.convert_to_tensor(test['sentiment'].values)\n",
    "\n",
    "raw_test_ds = tf.data.Dataset.from_tensor_slices((text_tensor, label_tensor))\n",
    "raw_test_ds = raw_test_ds.batch(batch_size)\n",
    "\n",
    "# Shuffles the dataset to ensure that the data is fed into the model in a random order during training.\n",
    "# The buffer_size parameter determines how much of the dataset to load into memory for shuffling at a time.\n",
    "# Batch() groups the shuffled data into batches of 32 samples. Batching is important in training neural networks\n",
    "# because it allows the model to update its weights after processing each batch, rather than after processing the entire dataset.\n",
    "# prefetch() overlaps the data preprocessing with model training by prefetching the next batch while the model is working on the current one.\n",
    "# Using tf.data.AUTOTUNE allows TensorFlow to automatically determine the optimal number of batches to prefetch based on your system's\n",
    "# configuration, improving training performance.\n",
    "#raw_train_ds = raw_train_ds.shuffle(buffer_size=len(train)).batch(32).prefetch(tf.data.AUTOTUNE)\n",
    "#raw_val_ds = raw_val_ds.shuffle(buffer_size=len(validation)).batch(32).prefetch(tf.data.AUTOTUNE)\n",
    "#raw_test_ds = raw_test_ds.shuffle(buffer_size=len(test)).batch(32).prefetch(tf.data.AUTOTUNE)\n",
    "\n",
    "# Check #1\n",
    "# Preview training\n",
    "for text_batch, label_batch in raw_train_ds.take(1):\n",
    "    for i in range(5):\n",
    "        print(text_batch.numpy()[i])\n",
    "        print(label_batch.numpy()[i])\n",
    "\n"
   ]
  },
  {
   "cell_type": "code",
   "execution_count": 11,
   "metadata": {
    "colab": {
     "base_uri": "https://localhost:8080/"
    },
    "id": "edySTdiLY_Sp",
    "outputId": "ea11dede-a387-446b-da42-0ad7ed6862b0"
   },
   "outputs": [
    {
     "name": "stdout",
     "output_type": "stream",
     "text": [
      "b'Just got home, no rosie surprise of smiles hugs & kisses waiting for me.'\n",
      "1\n",
      "b'oh yeah... happy Mothers day to every mom out there and to my friend`s moms'\n",
      "1\n",
      "b' ps love the new profile pic!'\n",
      "1\n",
      "b'i lost my voice . what should i do ? it`s very torture'\n",
      "0\n",
      "b\"  they closed the voting...all u can vote for now is best movie  Hope you win it! My 4 y/o Daughter lovesss 2 sing 'The Climb'\"\n",
      "1\n"
     ]
    },
    {
     "name": "stderr",
     "output_type": "stream",
     "text": [
      "2024-09-30 17:55:16.076386: I tensorflow/core/framework/local_rendezvous.cc:404] Local rendezvous is aborting with status: OUT_OF_RANGE: End of sequence\n"
     ]
    }
   ],
   "source": [
    "# Preview validation\n",
    "for text_batch, label_batch in raw_val_ds.take(1):\n",
    "    for i in range(5):\n",
    "        print(text_batch.numpy()[i])\n",
    "        print(label_batch.numpy()[i])"
   ]
  },
  {
   "cell_type": "code",
   "execution_count": 12,
   "metadata": {
    "colab": {
     "base_uri": "https://localhost:8080/"
    },
    "id": "BA255iu6Z5mB",
    "outputId": "3b804484-498f-4844-f1a8-ccd4eb7c6246"
   },
   "outputs": [
    {
     "name": "stdout",
     "output_type": "stream",
     "text": [
      "b'feels ****! and feet are aching  need my beeeeeddddddd!!!'\n",
      "0\n",
      "b'  you have been busy, have a lovely time'\n",
      "1\n",
      "b' Okay, cool. Hope you had better dreams than you had last week.'\n",
      "1\n",
      "b'No free ice cream though'\n",
      "0\n",
      "b'seriously. increasingly good nights. stoked on life! couldn`t be happier  #goodnight'\n",
      "1\n"
     ]
    }
   ],
   "source": [
    "# Preview test\n",
    "for text_batch, label_batch in raw_test_ds.take(1):\n",
    "    for i in range(5):\n",
    "        print(text_batch.numpy()[i])\n",
    "        print(label_batch.numpy()[i])"
   ]
  },
  {
   "cell_type": "code",
   "execution_count": 13,
   "metadata": {
    "colab": {
     "base_uri": "https://localhost:8080/"
    },
    "id": "X7dZcMWfTtem",
    "outputId": "63786c06-c25e-42f4-f91e-df57ef3e6e2b"
   },
   "outputs": [
    {
     "name": "stdout",
     "output_type": "stream",
     "text": [
      "Number of batches in train_ds: 4\n",
      "Number of batches in val_ds: 1\n",
      "Number of batches in val_ds: 1\n"
     ]
    }
   ],
   "source": [
    "# Check #2 Batches\n",
    "print(f\"Number of batches in train_ds: {raw_train_ds.cardinality()}\")\n",
    "print(f\"Number of batches in val_ds: {raw_val_ds.cardinality()}\")\n",
    "print(f\"Number of batches in val_ds: {raw_test_ds.cardinality()}\")"
   ]
  },
  {
   "cell_type": "code",
   "execution_count": 14,
   "metadata": {
    "colab": {
     "base_uri": "https://localhost:8080/"
    },
    "id": "EHjLlKm0UQc-",
    "outputId": "acff4df9-0cf7-411f-c97c-30e0f3808d50"
   },
   "outputs": [
    {
     "name": "stdout",
     "output_type": "stream",
     "text": [
      "train_ds.spec: (TensorSpec(shape=(None,), dtype=tf.string, name=None), TensorSpec(shape=(None,), dtype=tf.int64, name=None))\n",
      "val_ds.spec: (TensorSpec(shape=(None,), dtype=tf.string, name=None), TensorSpec(shape=(None,), dtype=tf.int64, name=None))\n",
      "test_ds.spec: (TensorSpec(shape=(None,), dtype=tf.string, name=None), TensorSpec(shape=(None,), dtype=tf.int64, name=None))\n"
     ]
    }
   ],
   "source": [
    "# Check #3 spec\n",
    "print(f\"train_ds.spec: {raw_train_ds.element_spec}\")\n",
    "print(f\"val_ds.spec: {raw_val_ds.element_spec}\")\n",
    "print(f\"test_ds.spec: {raw_test_ds.element_spec}\")"
   ]
  },
  {
   "cell_type": "code",
   "execution_count": 15,
   "metadata": {},
   "outputs": [
    {
     "name": "stdout",
     "output_type": "stream",
     "text": [
      "Training class counts: Counter({1: 90, 0: 35})\n",
      "Training class distribution: {1: 0.72, 0: 0.28}\n",
      "Validation class counts: Counter({1: 15, 0: 10})\n",
      "Validation class distribution: {1: 0.6, 0: 0.4}\n",
      "Test class counts: Counter({0: 4, 1: 3})\n",
      "Test class distribution: {0: 0.5714285714285714, 1: 0.42857142857142855}\n"
     ]
    },
    {
     "name": "stderr",
     "output_type": "stream",
     "text": [
      "2024-09-30 17:55:16.095095: I tensorflow/core/framework/local_rendezvous.cc:404] Local rendezvous is aborting with status: OUT_OF_RANGE: End of sequence\n"
     ]
    }
   ],
   "source": [
    "# Another check to make sure that the class distribution are the same after it has been transformed into a tensor object\n",
    "# Checking the class distribution in training, validation, and test set\n",
    "from collections import Counter\n",
    "\n",
    "# Function to compute class distribution\n",
    "def compute_class_balance(dataset):\n",
    "    all_labels = []\n",
    "\n",
    "    for _, label_batch in dataset:\n",
    "        # Convert TensorFlow tensors to numpy arrays and append to the list\n",
    "        all_labels.extend(label_batch.numpy())\n",
    "\n",
    "    # Use Counter to count occurrences of each class\n",
    "    class_counts = Counter(all_labels)\n",
    "\n",
    "    # Convert the class counts to class balance (distribution)\n",
    "    total_samples = sum(class_counts.values())\n",
    "    class_distribution = {label: count / total_samples for label, count in class_counts.items()}\n",
    "\n",
    "    return class_counts, class_distribution\n",
    "\n",
    "# Checking class balance in training, validation, and test datasets\n",
    "train_counts, train_distribution = compute_class_balance(raw_train_ds)\n",
    "val_counts, val_distribution = compute_class_balance(raw_val_ds)\n",
    "test_counts, test_distribution = compute_class_balance(raw_test_ds)\n",
    "\n",
    "# Print results\n",
    "print(\"Training class counts:\", train_counts)\n",
    "print(\"Training class distribution:\", train_distribution)\n",
    "\n",
    "print(\"Validation class counts:\", val_counts)\n",
    "print(\"Validation class distribution:\", val_distribution)\n",
    "\n",
    "print(\"Test class counts:\", test_counts)\n",
    "print(\"Test class distribution:\", test_distribution)"
   ]
  },
  {
   "cell_type": "code",
   "execution_count": 16,
   "metadata": {
    "id": "CI7wRIs38R8i"
   },
   "outputs": [],
   "source": [
    "\n",
    "def custom_standardization(input_data):\n",
    "    lowercase = tf.strings.lower(input_data)\n",
    "    stripped_html = tf.strings.regex_replace(lowercase, r\"http:[^\\s]*\\s\", \"\")\n",
    "    return tf.strings.regex_replace(\n",
    "        stripped_html, f\"[{re.escape(string.punctuation)}]\", \"\"\n",
    "    )\n",
    "\n",
    "\n",
    "# Model constants.\n",
    "\n",
    "# max_features determines the maximum number of unique words.\n",
    "# Manages memory usage and computational efficiency by limiting the size of the vocabulary the model needs to handle\n",
    "max_features = 300\n",
    "# embedding_dim the dimensionality of word embedding refers\n",
    "# to the number of dimensions in which the vector representation of a word is defined\n",
    "# total number of features that are encoded in the vector representation\n",
    "embedding_dim = 128\n",
    "# sequence_length ensures that all text sequences have a fixed length of 500 tokens, will padd\n",
    "sequence_length = 500\n",
    "\n",
    "# Now that we have our custom standardization, we can instantiate our text\n",
    "# vectorization layer. We are using this layer to normalize, split, and map\n",
    "# strings to integers, so we set our 'output_mode' to 'int'.\n",
    "# Note that we're using the default split function,\n",
    "# and the custom standardization defined above.\n",
    "# We also set an explicit maximum sequence length, since the CNNs later in our\n",
    "# model won't support ragged sequences.\n",
    "# Ragged sequences meaning differing lengths\n",
    "vectorize_layer = keras.layers.TextVectorization(\n",
    "    standardize=custom_standardization,\n",
    "    max_tokens=max_features,\n",
    "    output_mode=\"int\", #Outputs integer indices, one integer index per split string token. When output_mode == \"int\", 0 is reserved\n",
    "                       #for masked locations; this reduces the vocab size to max_tokens - 2 instead of max_tokens - 1\n",
    "    output_sequence_length=sequence_length,\n",
    ")\n",
    "\n",
    "# Now that the vectorize_layer has been created, call `adapt` on a text-only\n",
    "# dataset to create the vocabulary. You don't have to batch, but for very large\n",
    "# datasets this means you're not keeping spare copies of the dataset in memory.\n",
    "\n",
    "# Let's make a text-only dataset (no labels):\n",
    "text_ds = raw_train_ds.map(lambda x, y: x)\n",
    "# Let's call `adapt`:\n",
    "vectorize_layer.adapt(text_ds)"
   ]
  },
  {
   "cell_type": "code",
   "execution_count": 17,
   "metadata": {
    "id": "1xoyYlCMVDbH"
   },
   "outputs": [],
   "source": [
    "# Using Option 2 for vectorization\n",
    "def vectorize_text(text, label):\n",
    "    text = tf.expand_dims(text, -1)\n",
    "    return vectorize_layer(text), label\n",
    "\n",
    "\n",
    "# Vectorize the data.\n",
    "train_ds = raw_train_ds.map(vectorize_text)\n",
    "val_ds = raw_val_ds.map(vectorize_text)\n",
    "test_ds = raw_test_ds.map(vectorize_text)\n",
    "\n",
    "# Do async prefetching / buffering of the data for best performance on GPU.\n",
    "train_ds = train_ds.cache().prefetch(buffer_size=10)\n",
    "val_ds = val_ds.cache().prefetch(buffer_size=10)\n",
    "test_ds = test_ds.cache().prefetch(buffer_size=10)"
   ]
  },
  {
   "cell_type": "code",
   "execution_count": 18,
   "metadata": {
    "id": "2kR036V-mJDh"
   },
   "outputs": [],
   "source": [
    "# A integer input for vocab indices.\n",
    "inputs = keras.Input(shape=(None,), dtype=\"int64\")\n",
    "\n",
    "# Next, we add a layer to map those vocab indices into a space of dimensionality\n",
    "# 'embedding_dim'.\n",
    "x = layers.Embedding(max_features, embedding_dim)(inputs)\n",
    "x = layers.Dropout(0.5)(x)\n",
    "\n",
    "# Conv1D + global max pooling\n",
    "x = layers.Conv1D(128, 7, padding=\"valid\", activation=\"relu\", strides=3)(x)\n",
    "x = layers.Conv1D(128, 7, padding=\"valid\", activation=\"relu\", strides=3)(x)\n",
    "x = layers.GlobalMaxPooling1D()(x)\n",
    "\n",
    "# We add a vanilla hidden layer:\n",
    "x = layers.Dense(128, activation=\"relu\")(x)\n",
    "x = layers.Dropout(0.5)(x)\n",
    "\n",
    "# We project onto a single unit output layer, and squash it with a sigmoid:\n",
    "predictions = layers.Dense(1, activation=\"sigmoid\", name=\"predictions\")(x)\n",
    "\n",
    "model = keras.Model(inputs, predictions)\n",
    "\n",
    "# Compile the model with binary crossentropy loss and an adam optimizer.\n",
    "model.compile(loss=\"binary_crossentropy\", optimizer=\"adam\", metrics=[\"accuracy\"])"
   ]
  },
  {
   "cell_type": "code",
   "execution_count": 19,
   "metadata": {
    "colab": {
     "base_uri": "https://localhost:8080/",
     "height": 1000
    },
    "id": "DvYXypowa9la",
    "outputId": "d3995528-1e9c-42d3-ad67-627f26bc0c2a"
   },
   "outputs": [
    {
     "name": "stdout",
     "output_type": "stream",
     "text": [
      "Epoch 1/3\n",
      "\u001b[1m4/4\u001b[0m \u001b[32m━━━━━━━━━━━━━━━━━━━━\u001b[0m\u001b[37m\u001b[0m \u001b[1m1s\u001b[0m 44ms/step - accuracy: 0.5621 - loss: 0.6731 - val_accuracy: 0.6000 - val_loss: 0.6794\n",
      "Epoch 2/3\n",
      "\u001b[1m4/4\u001b[0m \u001b[32m━━━━━━━━━━━━━━━━━━━━\u001b[0m\u001b[37m\u001b[0m \u001b[1m0s\u001b[0m 23ms/step - accuracy: 0.7380 - loss: 0.5959 - val_accuracy: 0.6000 - val_loss: 0.6891\n",
      "Epoch 3/3\n",
      "\u001b[1m4/4\u001b[0m \u001b[32m━━━━━━━━━━━━━━━━━━━━\u001b[0m\u001b[37m\u001b[0m \u001b[1m0s\u001b[0m 23ms/step - accuracy: 0.7380 - loss: 0.5845 - val_accuracy: 0.6000 - val_loss: 0.6730\n"
     ]
    },
    {
     "data": {
      "text/plain": [
       "<matplotlib.legend.Legend at 0x17d85ae10>"
      ]
     },
     "execution_count": 19,
     "metadata": {},
     "output_type": "execute_result"
    },
    {
     "data": {
      "image/png": "[encoded data removed]",
      "text/plain": [
       "<Figure size 640x480 with 2 Axes>"
      ]
     },
     "metadata": {},
     "output_type": "display_data"
    }
   ],
   "source": [
    "epochs = 3\n",
    "\n",
    "history = model.fit(train_ds, validation_data=val_ds, epochs=epochs)\n",
    "\n",
    "# Loss\n",
    "plt.subplot(1, 2, 1)\n",
    "plt.plot(history.history['loss'], label='Training Loss')\n",
    "plt.plot(history.history['val_loss'], label='Validation Loss')\n",
    "plt.xlabel('Epoch')\n",
    "plt.ylabel('Loss')\n",
    "plt.legend(loc='upper right')\n",
    "\n",
    "# Accuracy\n",
    "plt.subplot(1, 2, 2)\n",
    "plt.plot(history.history['accuracy'], label='Training Accuracy')\n",
    "plt.plot(history.history['val_accuracy'], label='Validation Accuracy')\n",
    "plt.xlabel('Epoch')\n",
    "plt.ylabel('Accuracy')\n",
    "plt.legend(loc='lower right')"
   ]
  },
  {
   "cell_type": "code",
   "execution_count": 20,
   "metadata": {
    "colab": {
     "base_uri": "https://localhost:8080/",
     "height": 491
    },
    "id": "SOZhZeNUcAgw",
    "outputId": "4fa10501-35ac-4d3d-844a-0ae00a879314"
   },
   "outputs": [
    {
     "name": "stdout",
     "output_type": "stream",
     "text": [
      "\u001b[1m1/1\u001b[0m \u001b[32m━━━━━━━━━━━━━━━━━━━━\u001b[0m\u001b[37m\u001b[0m \u001b[1m0s\u001b[0m 41ms/step\n"
     ]
    },
    {
     "name": "stderr",
     "output_type": "stream",
     "text": [
      "2024-09-30 17:55:17.175690: I tensorflow/core/framework/local_rendezvous.cc:404] Local rendezvous is aborting with status: OUT_OF_RANGE: End of sequence\n"
     ]
    },
    {
     "data": {
      "text/plain": [
       "<sklearn.metrics._plot.confusion_matrix.ConfusionMatrixDisplay at 0x17cc8a780>"
      ]
     },
     "execution_count": 20,
     "metadata": {},
     "output_type": "execute_result"
    },
    {
     "data": {
      "image/png": "[encoded data removed]",
      "text/plain": [
       "<Figure size 640x480 with 2 Axes>"
      ]
     },
     "metadata": {},
     "output_type": "display_data"
    }
   ],
   "source": [
    "predictions = model.predict(test_ds)\n",
    "\n",
    "binary_predictions = np.where(predictions > 0.5, 1, 0)\n",
    "\n",
    "# Step 3: Extract the true labels from the validation or test dataset\n",
    "true_labels = np.concatenate([y for x, y in test_ds], axis=0)\n",
    "\n",
    "# Step 4: Create the confusion matrix\n",
    "conf_matrix = confusion_matrix(true_labels, binary_predictions)\n",
    "\n",
    "disp = ConfusionMatrixDisplay(confusion_matrix=conf_matrix)\n",
    "disp.plot(cmap=plt.cm.Blues)\n",
    "\n"
   ]
  },
  {
   "cell_type": "code",
   "execution_count": 21,
   "metadata": {},
   "outputs": [
    {
     "name": "stdout",
     "output_type": "stream",
     "text": [
      "\u001b[1m1/1\u001b[0m \u001b[32m━━━━━━━━━━━━━━━━━━━━\u001b[0m\u001b[37m\u001b[0m \u001b[1m0s\u001b[0m 6ms/step - accuracy: 0.4286 - loss: 0.7479\n"
     ]
    },
    {
     "data": {
      "text/plain": [
       "[0.7479388117790222, 0.4285714328289032]"
      ]
     },
     "execution_count": 21,
     "metadata": {},
     "output_type": "execute_result"
    }
   ],
   "source": [
    "model.evaluate(test_ds)"
   ]
  }
 ],
 "metadata": {
  "colab": {
   "provenance": []
  },
  "kernelspec": {
   "display_name": "Python 3 (ipykernel)",
   "language": "python",
   "name": "python3"
  },
  "language_info": {
   "codemirror_mode": {
    "name": "ipython",
    "version": 3
   },
   "file_extension": ".py",
   "mimetype": "text/x-python",
   "name": "python",
   "nbconvert_exporter": "python",
   "pygments_lexer": "ipython3",
   "version": "3.12.4"
  }
 },
 "nbformat": 4,
 "nbformat_minor": 4
}
