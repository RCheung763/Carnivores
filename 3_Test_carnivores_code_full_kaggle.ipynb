{
 "cells": [
  {
   "cell_type": "markdown",
   "metadata": {},
   "source": [
    "This is the using the Kaggle dataset increased sample sizes, similar class distribution.\n",
    "\n",
    "Training class counts: Counter({1: 7976, 0: 3418})\n",
    "Training class distribution: {1: 0.7000175530981219, 0: 0.2999824469018782}\n",
    "Validation class counts: Counter({1: 1367, 0: 912})\n",
    "Validation class distribution: {1: 0.5998244844229925, 0: 0.4001755155770075}\n",
    "Test class counts: Counter({1: 342, 0: 228})\n",
    "Test class distribution: {1: 0.6, 0: 0.4}"
   ]
  },
  {
   "cell_type": "code",
   "execution_count": 1,
   "metadata": {
    "id": "GM-5IFE1ccIr"
   },
   "outputs": [],
   "source": [
    "# Import libraries\n",
    "\n",
    "import numpy as np\n",
    "import pandas as pd\n",
    "\n",
    "import os\n",
    "\n",
    "os.environ[\"KERAS_BACKEND\"] = \"tensorflow\"\n",
    "\n",
    "import keras\n",
    "import tensorflow as tf\n",
    "import numpy as np\n",
    "from keras import layers\n",
    "\n",
    "import string\n",
    "import re\n",
    "\n",
    "from sklearn.metrics import confusion_matrix, ConfusionMatrixDisplay\n",
    "import matplotlib.pyplot as plt\n",
    "from sklearn.preprocessing import LabelEncoder\n",
    "\n",
    "#!pip install -U libsvm-official"
   ]
  },
  {
   "cell_type": "code",
   "execution_count": 2,
   "metadata": {},
   "outputs": [
    {
     "data": {
      "text/plain": [
       "'/Users/rubyc/Desktop/NLP'"
      ]
     },
     "execution_count": 2,
     "metadata": {},
     "output_type": "execute_result"
    }
   ],
   "source": [
    "import os \n",
    "os.getcwd()"
   ]
  },
  {
   "cell_type": "code",
   "execution_count": 3,
   "metadata": {},
   "outputs": [
    {
     "name": "stdout",
     "output_type": "stream",
     "text": [
      "4558\n",
      "9685\n"
     ]
    }
   ],
   "source": [
    "# read in test dataset \n",
    "test_df = pd.read_csv(\"~/Desktop/NLP/data/sentiment analysis Dataset/test.csv\", encoding='utf-8') \n",
    "# one-hot encode class column\n",
    "test_df['sentiment'] = test_df['sentiment'].map({'positive' : 1, 'negative' : 0})\n",
    "\n",
    "# read in train dataset\n",
    "train_df = pd.read_csv(\"~/Desktop/NLP/data/sentiment analysis Dataset/train.csv\", encoding='utf-8') \n",
    "train_df['sentiment'] = train_df['sentiment'].map({'positive' : 1, 'negative' : 0})\n",
    "\n",
    "# Concatenate \n",
    "input_df = pd.concat([test_df, train_df], ignore_index = True)\n",
    "\n",
    "# Convert text column to string\n",
    "input_df['text'] = input_df['text'].astype(str)\n",
    "input_df = input_df[pd.notna(input_df['sentiment'])]\n",
    "\n",
    "# Split data in to positive and negative observations\n",
    "pos_df = input_df[input_df['sentiment'] == 1]\n",
    "neg_df = input_df[input_df['sentiment'] == 0]\n",
    "\n",
    "# adjust ration of classes\n",
    "total_obs = round(len(pos_df)/.68)\n",
    "num_neg = total_obs - len(pos_df)\n",
    "neg_df = neg_df.sample(n = num_neg, random_state = 1337)\n",
    "\n",
    "print(len(neg_df))\n",
    "print(len(pos_df))"
   ]
  },
  {
   "cell_type": "code",
   "execution_count": 4,
   "metadata": {},
   "outputs": [
    {
     "data": {
      "text/html": [
       "<div>\n",
       "<style scoped>\n",
       "    .dataframe tbody tr th:only-of-type {\n",
       "        vertical-align: middle;\n",
       "    }\n",
       "\n",
       "    .dataframe tbody tr th {\n",
       "        vertical-align: top;\n",
       "    }\n",
       "\n",
       "    .dataframe thead th {\n",
       "        text-align: right;\n",
       "    }\n",
       "</style>\n",
       "<table border=\"1\" class=\"dataframe\">\n",
       "  <thead>\n",
       "    <tr style=\"text-align: right;\">\n",
       "      <th></th>\n",
       "      <th>textID</th>\n",
       "      <th>text</th>\n",
       "      <th>sentiment</th>\n",
       "      <th>Time of Tweet</th>\n",
       "      <th>Age of User</th>\n",
       "      <th>Country</th>\n",
       "      <th>Population -2020</th>\n",
       "      <th>Land Area (Km≤)</th>\n",
       "      <th>Density (P/Km≤)</th>\n",
       "      <th>selected_text</th>\n",
       "    </tr>\n",
       "  </thead>\n",
       "  <tbody>\n",
       "  </tbody>\n",
       "</table>\n",
       "</div>"
      ],
      "text/plain": [
       "Empty DataFrame\n",
       "Columns: [textID, text, sentiment, Time of Tweet, Age of User, Country, Population -2020, Land Area (Km≤), Density (P/Km≤), selected_text]\n",
       "Index: []"
      ]
     },
     "execution_count": 4,
     "metadata": {},
     "output_type": "execute_result"
    }
   ],
   "source": [
    "input_df[pd.isna(input_df['text'])].head()"
   ]
  },
  {
   "cell_type": "markdown",
   "metadata": {
    "id": "7my7g68OMm35"
   },
   "source": [
    "# [Example](https://colab.research.google.com/github/keras-team/keras-io/blob/master/examples/nlp/ipynb/text_classification_from_scratch.ipynb#scrollTo=CoUCSwSHdgPR)\n",
    "\n",
    "\n"
   ]
  },
  {
   "cell_type": "markdown",
   "metadata": {},
   "source": [
    "Class distribution of carnivores dataset\n",
    "Training class counts: Counter({1: 90, 0: 35})\n",
    "Training class distribution: {1: 0.72, 0: 0.28}\n",
    "Validation class counts: Counter({1: 15, 0: 10})\n",
    "Validation class distribution: {0: 0.4, 1: 0.6}\n",
    "Test class counts: Counter({0: 4, 1: 3})\n",
    "Test class distribution: {0: 0.5714285714285714, 1: 0.42857142857142855}"
   ]
  },
  {
   "cell_type": "code",
   "execution_count": 7,
   "metadata": {},
   "outputs": [],
   "source": [
    "# training, validation, test numbers\n",
    "pos_count = len(pos_df)\n",
    "neg_count = len(neg_df)\n",
    "\n",
    "total_obs = pos_count + neg_count\n",
    "train_obs = round(total_obs * .8)\n",
    "valid_obs = round(total_obs * .16)\n",
    "test_obs = total_obs - train_obs - valid_obs\n",
    "\n",
    "# training set counts\n",
    "train_pos_count = round(train_obs * .7)\n",
    "train_neg_count = train_obs - train_pos_count\n",
    "\n",
    "# validation set counts\n",
    "valid_pos_count = round(valid_obs * .6)\n",
    "valid_neg_count = valid_obs - valid_pos_count\n",
    "\n",
    "# testing set counts\n",
    "test_pos_count = round(test_obs * .4)\n",
    "test_neg_count = test_obs - test_pos_count\n"
   ]
  },
  {
   "cell_type": "code",
   "execution_count": 8,
   "metadata": {},
   "outputs": [],
   "source": [
    "# train set \n",
    "train_pos = pos_df.sample(n = train_pos_count, random_state = 1337)\n",
    "remaining_pos = pos_df.drop(train_pos.index)\n",
    "\n",
    "train_neg = neg_df.sample(n = train_neg_count, random_state = 1337)\n",
    "remaining_neg = neg_df.drop(train_neg.index)\n",
    "\n",
    "# validation and test set\n",
    "valid_pos = remaining_pos.sample(n = valid_pos_count, random_state = 1337)\n",
    "test_pos = remaining_pos.drop(valid_pos.index)\n",
    "\n",
    "valid_neg = remaining_neg.sample(n = valid_neg_count, random_state = 1337)\n",
    "test_neg = remaining_neg.drop(valid_neg.index)\n",
    "\n",
    "training = pd.concat([train_pos, train_neg])\n",
    "validation = pd.concat([valid_pos, valid_neg])\n",
    "test = pd.concat([test_pos, test_neg])"
   ]
  },
  {
   "cell_type": "code",
   "execution_count": 9,
   "metadata": {},
   "outputs": [],
   "source": [
    "# Convert 'text' to string\n",
    "training['text'] = training['text'].astype(str)\n",
    "validation['text'] = validation['text'].astype(str)\n",
    "test['text'] = test['text'].astype(str)\n",
    "\n",
    "# Convert 'sentiment' to integer\n",
    "training['sentiment'] = training['sentiment'].astype(int)\n",
    "validation['sentiment'] = validation['sentiment'].astype(int)\n",
    "test['sentiment'] = test['sentiment'].astype(int)"
   ]
  },
  {
   "cell_type": "code",
   "execution_count": 10,
   "metadata": {
    "colab": {
     "base_uri": "https://localhost:8080/"
    },
    "id": "O3u1hz3B1BLK",
    "outputId": "08ad4158-f7b1-4340-acad-d04fa5d03efd"
   },
   "outputs": [
    {
     "name": "stdout",
     "output_type": "stream",
     "text": [
      "b'I feel funny. Hmmp, better be an amazing **** day. why not?  I LOVE HOW I KNOW SAMMY ROVIN GOT A TEXT ABOUT THIS TWEET <3333'\n",
      "1\n",
      "b'All new implementation of test discovery for unittest. This time in a loader. Good start I think.   http://twurl.nl/nz8f4y'\n",
      "1\n",
      "b'Congratulation`s to phil packer on completing the london marathon  x a shining example to us all x'\n",
      "1\n",
      "b'Cancelling my JavaOne  http://ff.im/3nzTH'\n",
      "0\n",
      "b' LOL, point at yourself and laugh!'\n",
      "1\n"
     ]
    },
    {
     "name": "stderr",
     "output_type": "stream",
     "text": [
      "2024-09-30 22:53:27.596653: I tensorflow/core/framework/local_rendezvous.cc:404] Local rendezvous is aborting with status: OUT_OF_RANGE: End of sequence\n"
     ]
    }
   ],
   "source": [
    "# Creating a tensorflow object\n",
    "\n",
    "batch_size = 32\n",
    "shuffle_buffer_size = 10000\n",
    "\n",
    "# Training set\n",
    "text_tensor = tf.convert_to_tensor(training['text'].values, dtype=tf.string)\n",
    "label_tensor = tf.convert_to_tensor(training['sentiment'].values)\n",
    "\n",
    "raw_train_ds = tf.data.Dataset.from_tensor_slices((text_tensor, label_tensor))\n",
    "raw_train_ds = raw_train_ds.shuffle(shuffle_buffer_size).batch(batch_size)\n",
    "\n",
    "# Validation set\n",
    "text_tensor = tf.convert_to_tensor(validation['text'].values, dtype=tf.string)\n",
    "label_tensor = tf.convert_to_tensor(validation['sentiment'].values)\n",
    "\n",
    "raw_val_ds = tf.data.Dataset.from_tensor_slices((text_tensor, label_tensor))\n",
    "raw_val_ds = raw_val_ds.batch(batch_size)\n",
    "\n",
    "# Test set\n",
    "text_tensor = tf.convert_to_tensor(test['text'].values, dtype=tf.string)\n",
    "label_tensor = tf.convert_to_tensor(test['sentiment'].values)\n",
    "\n",
    "raw_test_ds = tf.data.Dataset.from_tensor_slices((text_tensor, label_tensor))\n",
    "raw_test_ds = raw_test_ds.batch(batch_size)\n",
    "\n",
    "# Shuffles the dataset to ensure that the data is fed into the model in a random order during training.\n",
    "# The buffer_size parameter determines how much of the dataset to load into memory for shuffling at a time.\n",
    "# Batch() groups the shuffled data into batches of 32 samples. Batching is important in training neural networks\n",
    "# because it allows the model to update its weights after processing each batch, rather than after processing the entire dataset.\n",
    "# prefetch() overlaps the data preprocessing with model training by prefetching the next batch while the model is working on the current one.\n",
    "# Using tf.data.AUTOTUNE allows TensorFlow to automatically determine the optimal number of batches to prefetch based on your system's\n",
    "# configuration, improving training performance.\n",
    "#raw_train_ds = raw_train_ds.shuffle(buffer_size=len(train)).batch(32).prefetch(tf.data.AUTOTUNE)\n",
    "#raw_val_ds = raw_val_ds.shuffle(buffer_size=len(validation)).batch(32).prefetch(tf.data.AUTOTUNE)\n",
    "#raw_test_ds = raw_test_ds.shuffle(buffer_size=len(test)).batch(32).prefetch(tf.data.AUTOTUNE)\n",
    "\n",
    "# Check #1\n",
    "# Preview training\n",
    "for text_batch, label_batch in raw_train_ds.take(1):\n",
    "    for i in range(5):\n",
    "        print(text_batch.numpy()[i])\n",
    "        print(label_batch.numpy()[i])\n",
    "\n"
   ]
  },
  {
   "cell_type": "code",
   "execution_count": 11,
   "metadata": {
    "colab": {
     "base_uri": "https://localhost:8080/"
    },
    "id": "edySTdiLY_Sp",
    "outputId": "ea11dede-a387-446b-da42-0ad7ed6862b0"
   },
   "outputs": [
    {
     "name": "stdout",
     "output_type": "stream",
     "text": [
      "b'  Thanks Sissy!!!!!!! Be sure to check ur Myspace tonight, It`s gonna be Something! Luv Ya!!!!'\n",
      "1\n",
      "b'Wish I was @ wembley'\n",
      "1\n",
      "b'installed the iNav iBlue v2 Theme...gives a fresh feel    http://twitpic.com/4jfg4'\n",
      "1\n",
      "b'_ Truetrue  But he`s not! xD'\n",
      "1\n",
      "b' Shop smart.  Shop S Mart.'\n",
      "1\n"
     ]
    },
    {
     "name": "stderr",
     "output_type": "stream",
     "text": [
      "2024-09-30 22:53:27.602302: I tensorflow/core/framework/local_rendezvous.cc:404] Local rendezvous is aborting with status: OUT_OF_RANGE: End of sequence\n"
     ]
    }
   ],
   "source": [
    "# Preview validation\n",
    "for text_batch, label_batch in raw_val_ds.take(1):\n",
    "    for i in range(5):\n",
    "        print(text_batch.numpy()[i])\n",
    "        print(label_batch.numpy()[i])"
   ]
  },
  {
   "cell_type": "code",
   "execution_count": 12,
   "metadata": {
    "colab": {
     "base_uri": "https://localhost:8080/"
    },
    "id": "BA255iu6Z5mB",
    "outputId": "3b804484-498f-4844-f1a8-ccd4eb7c6246"
   },
   "outputs": [
    {
     "name": "stdout",
     "output_type": "stream",
     "text": [
      "b'_LaMont yr very young looking dude'\n",
      "1\n",
      "b' well, not all. just stay away from those kinds and surround yourself with those who don`t. happy mother`s day to ur mom, treiz!'\n",
      "1\n",
      "b'_chick haha. I completely agree'\n",
      "1\n",
      "b' yep  but I`m going better now'\n",
      "1\n",
      "b'I love my mom! Happy Mother`s Day, mommies'\n",
      "1\n"
     ]
    }
   ],
   "source": [
    "# Preview test\n",
    "for text_batch, label_batch in raw_test_ds.take(1):\n",
    "    for i in range(5):\n",
    "        print(text_batch.numpy()[i])\n",
    "        print(label_batch.numpy()[i])"
   ]
  },
  {
   "cell_type": "code",
   "execution_count": 13,
   "metadata": {
    "colab": {
     "base_uri": "https://localhost:8080/"
    },
    "id": "X7dZcMWfTtem",
    "outputId": "63786c06-c25e-42f4-f91e-df57ef3e6e2b"
   },
   "outputs": [
    {
     "name": "stdout",
     "output_type": "stream",
     "text": [
      "Number of batches in train_ds: 357\n",
      "Number of batches in val_ds: 72\n",
      "Number of batches in val_ds: 18\n"
     ]
    }
   ],
   "source": [
    "# Check #2 Batches\n",
    "print(f\"Number of batches in train_ds: {raw_train_ds.cardinality()}\")\n",
    "print(f\"Number of batches in val_ds: {raw_val_ds.cardinality()}\")\n",
    "print(f\"Number of batches in val_ds: {raw_test_ds.cardinality()}\")"
   ]
  },
  {
   "cell_type": "code",
   "execution_count": 14,
   "metadata": {
    "colab": {
     "base_uri": "https://localhost:8080/"
    },
    "id": "EHjLlKm0UQc-",
    "outputId": "acff4df9-0cf7-411f-c97c-30e0f3808d50"
   },
   "outputs": [
    {
     "name": "stdout",
     "output_type": "stream",
     "text": [
      "train_ds.spec: (TensorSpec(shape=(None,), dtype=tf.string, name=None), TensorSpec(shape=(None,), dtype=tf.int64, name=None))\n",
      "val_ds.spec: (TensorSpec(shape=(None,), dtype=tf.string, name=None), TensorSpec(shape=(None,), dtype=tf.int64, name=None))\n",
      "test_ds.spec: (TensorSpec(shape=(None,), dtype=tf.string, name=None), TensorSpec(shape=(None,), dtype=tf.int64, name=None))\n"
     ]
    }
   ],
   "source": [
    "# Check #3 spec\n",
    "print(f\"train_ds.spec: {raw_train_ds.element_spec}\")\n",
    "print(f\"val_ds.spec: {raw_val_ds.element_spec}\")\n",
    "print(f\"test_ds.spec: {raw_test_ds.element_spec}\")"
   ]
  },
  {
   "cell_type": "code",
   "execution_count": 15,
   "metadata": {},
   "outputs": [
    {
     "name": "stdout",
     "output_type": "stream",
     "text": [
      "Training class counts: Counter({1: 7976, 0: 3418})\n",
      "Training class distribution: {1: 0.7000175530981219, 0: 0.2999824469018782}\n",
      "Validation class counts: Counter({1: 1367, 0: 912})\n",
      "Validation class distribution: {1: 0.5998244844229925, 0: 0.4001755155770075}\n",
      "Test class counts: Counter({1: 342, 0: 228})\n",
      "Test class distribution: {1: 0.6, 0: 0.4}\n"
     ]
    },
    {
     "name": "stderr",
     "output_type": "stream",
     "text": [
      "2024-09-30 22:53:27.643375: I tensorflow/core/framework/local_rendezvous.cc:404] Local rendezvous is aborting with status: OUT_OF_RANGE: End of sequence\n"
     ]
    }
   ],
   "source": [
    "# Another check to make sure that the class distribution are the same after it has been transformed into a tensor object\n",
    "# Checking the class distribution in training, validation, and test set\n",
    "from collections import Counter\n",
    "\n",
    "# Function to compute class distribution\n",
    "def compute_class_balance(dataset):\n",
    "    all_labels = []\n",
    "\n",
    "    for _, label_batch in dataset:\n",
    "        # Convert TensorFlow tensors to numpy arrays and append to the list\n",
    "        all_labels.extend(label_batch.numpy())\n",
    "\n",
    "    # Use Counter to count occurrences of each class\n",
    "    class_counts = Counter(all_labels)\n",
    "\n",
    "    # Convert the class counts to class balance (distribution)\n",
    "    total_samples = sum(class_counts.values())\n",
    "    class_distribution = {label: count / total_samples for label, count in class_counts.items()}\n",
    "\n",
    "    return class_counts, class_distribution\n",
    "\n",
    "# Checking class balance in training, validation, and test datasets\n",
    "train_counts, train_distribution = compute_class_balance(raw_train_ds)\n",
    "val_counts, val_distribution = compute_class_balance(raw_val_ds)\n",
    "test_counts, test_distribution = compute_class_balance(raw_test_ds)\n",
    "\n",
    "# Print results\n",
    "print(\"Training class counts:\", train_counts)\n",
    "print(\"Training class distribution:\", train_distribution)\n",
    "\n",
    "print(\"Validation class counts:\", val_counts)\n",
    "print(\"Validation class distribution:\", val_distribution)\n",
    "\n",
    "print(\"Test class counts:\", test_counts)\n",
    "print(\"Test class distribution:\", test_distribution)"
   ]
  },
  {
   "cell_type": "code",
   "execution_count": 16,
   "metadata": {
    "id": "CI7wRIs38R8i"
   },
   "outputs": [],
   "source": [
    "\n",
    "def custom_standardization(input_data):\n",
    "    lowercase = tf.strings.lower(input_data)\n",
    "    stripped_html = tf.strings.regex_replace(lowercase, r\"http:[^\\s]*\\s\", \"\")\n",
    "    return tf.strings.regex_replace(\n",
    "        stripped_html, f\"[{re.escape(string.punctuation)}]\", \"\"\n",
    "    )\n",
    "\n",
    "\n",
    "# Model constants.\n",
    "\n",
    "# max_features determines the maximum number of unique words.\n",
    "# Manages memory usage and computational efficiency by limiting the size of the vocabulary the model needs to handle\n",
    "max_features = 300\n",
    "# embedding_dim the dimensionality of word embedding refers\n",
    "# to the number of dimensions in which the vector representation of a word is defined\n",
    "# total number of features that are encoded in the vector representation\n",
    "embedding_dim = 128\n",
    "# sequence_length ensures that all text sequences have a fixed length of 500 tokens, will padd\n",
    "sequence_length = 500\n",
    "\n",
    "# Now that we have our custom standardization, we can instantiate our text\n",
    "# vectorization layer. We are using this layer to normalize, split, and map\n",
    "# strings to integers, so we set our 'output_mode' to 'int'.\n",
    "# Note that we're using the default split function,\n",
    "# and the custom standardization defined above.\n",
    "# We also set an explicit maximum sequence length, since the CNNs later in our\n",
    "# model won't support ragged sequences.\n",
    "# Ragged sequences meaning differing lengths\n",
    "vectorize_layer = keras.layers.TextVectorization(\n",
    "    standardize=custom_standardization,\n",
    "    max_tokens=max_features,\n",
    "    output_mode=\"int\", #Outputs integer indices, one integer index per split string token. When output_mode == \"int\", 0 is reserved\n",
    "                       #for masked locations; this reduces the vocab size to max_tokens - 2 instead of max_tokens - 1\n",
    "    output_sequence_length=sequence_length,\n",
    ")\n",
    "\n",
    "# Now that the vectorize_layer has been created, call `adapt` on a text-only\n",
    "# dataset to create the vocabulary. You don't have to batch, but for very large\n",
    "# datasets this means you're not keeping spare copies of the dataset in memory.\n",
    "\n",
    "# Let's make a text-only dataset (no labels):\n",
    "text_ds = raw_train_ds.map(lambda x, y: x)\n",
    "# Let's call `adapt`:\n",
    "vectorize_layer.adapt(text_ds)"
   ]
  },
  {
   "cell_type": "code",
   "execution_count": 17,
   "metadata": {
    "id": "1xoyYlCMVDbH"
   },
   "outputs": [],
   "source": [
    "# Using Option 2 for vectorization\n",
    "def vectorize_text(text, label):\n",
    "    text = tf.expand_dims(text, -1)\n",
    "    return vectorize_layer(text), label\n",
    "\n",
    "\n",
    "# Vectorize the data.\n",
    "train_ds = raw_train_ds.map(vectorize_text)\n",
    "val_ds = raw_val_ds.map(vectorize_text)\n",
    "test_ds = raw_test_ds.map(vectorize_text)\n",
    "\n",
    "# Do async prefetching / buffering of the data for best performance on GPU.\n",
    "train_ds = train_ds.cache().prefetch(buffer_size=10)\n",
    "val_ds = val_ds.cache().prefetch(buffer_size=10)\n",
    "test_ds = test_ds.cache().prefetch(buffer_size=10)"
   ]
  },
  {
   "cell_type": "code",
   "execution_count": 18,
   "metadata": {
    "id": "2kR036V-mJDh"
   },
   "outputs": [],
   "source": [
    "# A integer input for vocab indices.\n",
    "inputs = keras.Input(shape=(None,), dtype=\"int64\")\n",
    "\n",
    "# Next, we add a layer to map those vocab indices into a space of dimensionality\n",
    "# 'embedding_dim'.\n",
    "x = layers.Embedding(max_features, embedding_dim)(inputs)\n",
    "x = layers.Dropout(0.5)(x)\n",
    "\n",
    "# Conv1D + global max pooling\n",
    "x = layers.Conv1D(128, 7, padding=\"valid\", activation=\"relu\", strides=3)(x)\n",
    "x = layers.Conv1D(128, 7, padding=\"valid\", activation=\"relu\", strides=3)(x)\n",
    "x = layers.GlobalMaxPooling1D()(x)\n",
    "\n",
    "# We add a vanilla hidden layer:\n",
    "x = layers.Dense(128, activation=\"relu\")(x)\n",
    "x = layers.Dropout(0.5)(x)\n",
    "\n",
    "# We project onto a single unit output layer, and squash it with a sigmoid:\n",
    "predictions = layers.Dense(1, activation=\"sigmoid\", name=\"predictions\")(x)\n",
    "\n",
    "model = keras.Model(inputs, predictions)\n",
    "\n",
    "# Compile the model with binary crossentropy loss and an adam optimizer.\n",
    "model.compile(loss=\"binary_crossentropy\", optimizer=\"adam\", metrics=[\"accuracy\"])"
   ]
  },
  {
   "cell_type": "code",
   "execution_count": 19,
   "metadata": {
    "colab": {
     "base_uri": "https://localhost:8080/",
     "height": 1000
    },
    "id": "DvYXypowa9la",
    "outputId": "d3995528-1e9c-42d3-ad67-627f26bc0c2a"
   },
   "outputs": [
    {
     "name": "stdout",
     "output_type": "stream",
     "text": [
      "Epoch 1/3\n",
      "\u001b[1m357/357\u001b[0m \u001b[32m━━━━━━━━━━━━━━━━━━━━\u001b[0m\u001b[37m\u001b[0m \u001b[1m9s\u001b[0m 23ms/step - accuracy: 0.7271 - loss: 0.5662 - val_accuracy: 0.7797 - val_loss: 0.4317\n",
      "Epoch 2/3\n",
      "\u001b[1m357/357\u001b[0m \u001b[32m━━━━━━━━━━━━━━━━━━━━\u001b[0m\u001b[37m\u001b[0m \u001b[1m8s\u001b[0m 24ms/step - accuracy: 0.8205 - loss: 0.3715 - val_accuracy: 0.8030 - val_loss: 0.3885\n",
      "Epoch 3/3\n",
      "\u001b[1m357/357\u001b[0m \u001b[32m━━━━━━━━━━━━━━━━━━━━\u001b[0m\u001b[37m\u001b[0m \u001b[1m9s\u001b[0m 24ms/step - accuracy: 0.8402 - loss: 0.3306 - val_accuracy: 0.7986 - val_loss: 0.4040\n"
     ]
    },
    {
     "data": {
      "text/plain": [
       "<matplotlib.legend.Legend at 0x1533abec0>"
      ]
     },
     "execution_count": 19,
     "metadata": {},
     "output_type": "execute_result"
    },
    {
     "data": {
      "image/png": "[encoded data removed]",
      "text/plain": [
       "<Figure size 640x480 with 2 Axes>"
      ]
     },
     "metadata": {},
     "output_type": "display_data"
    }
   ],
   "source": [
    "epochs = 3\n",
    "\n",
    "history = model.fit(train_ds, validation_data=val_ds, epochs=epochs)\n",
    "\n",
    "# Loss\n",
    "plt.subplot(1, 2, 1)\n",
    "plt.plot(history.history['loss'], label='Training Loss')\n",
    "plt.plot(history.history['val_loss'], label='Validation Loss')\n",
    "plt.xlabel('Epoch')\n",
    "plt.ylabel('Loss')\n",
    "plt.legend(loc='upper right')\n",
    "\n",
    "# Accuracy\n",
    "plt.subplot(1, 2, 2)\n",
    "plt.plot(history.history['accuracy'], label='Training Accuracy')\n",
    "plt.plot(history.history['val_accuracy'], label='Validation Accuracy')\n",
    "plt.xlabel('Epoch')\n",
    "plt.ylabel('Accuracy')\n",
    "plt.legend(loc='lower right')"
   ]
  },
  {
   "cell_type": "code",
   "execution_count": 20,
   "metadata": {
    "colab": {
     "base_uri": "https://localhost:8080/",
     "height": 491
    },
    "id": "SOZhZeNUcAgw",
    "outputId": "4fa10501-35ac-4d3d-844a-0ae00a879314"
   },
   "outputs": [
    {
     "name": "stdout",
     "output_type": "stream",
     "text": [
      "\u001b[1m18/18\u001b[0m \u001b[32m━━━━━━━━━━━━━━━━━━━━\u001b[0m\u001b[37m\u001b[0m \u001b[1m0s\u001b[0m 9ms/step\n"
     ]
    },
    {
     "name": "stderr",
     "output_type": "stream",
     "text": [
      "2024-09-30 22:53:53.972105: I tensorflow/core/framework/local_rendezvous.cc:404] Local rendezvous is aborting with status: OUT_OF_RANGE: End of sequence\n"
     ]
    },
    {
     "data": {
      "text/plain": [
       "<sklearn.metrics._plot.confusion_matrix.ConfusionMatrixDisplay at 0x151d26390>"
      ]
     },
     "execution_count": 20,
     "metadata": {},
     "output_type": "execute_result"
    },
    {
     "data": {
      "image/png": "[encoded data removed]",
      "text/plain": [
       "<Figure size 640x480 with 2 Axes>"
      ]
     },
     "metadata": {},
     "output_type": "display_data"
    }
   ],
   "source": [
    "predictions = model.predict(test_ds)\n",
    "\n",
    "binary_predictions = np.where(predictions > 0.5, 1, 0)\n",
    "\n",
    "# Step 3: Extract the true labels from the validation or test dataset\n",
    "true_labels = np.concatenate([y for x, y in test_ds], axis=0)\n",
    "\n",
    "# Step 4: Create the confusion matrix\n",
    "conf_matrix = confusion_matrix(true_labels, binary_predictions)\n",
    "\n",
    "disp = ConfusionMatrixDisplay(confusion_matrix=conf_matrix)\n",
    "disp.plot(cmap=plt.cm.Blues)\n",
    "\n"
   ]
  },
  {
   "cell_type": "code",
   "execution_count": 21,
   "metadata": {},
   "outputs": [
    {
     "name": "stdout",
     "output_type": "stream",
     "text": [
      "\u001b[1m18/18\u001b[0m \u001b[32m━━━━━━━━━━━━━━━━━━━━\u001b[0m\u001b[37m\u001b[0m \u001b[1m0s\u001b[0m 9ms/step - accuracy: 0.8616 - loss: 0.2636\n"
     ]
    },
    {
     "data": {
      "text/plain": [
       "[0.36905568838119507, 0.7964912056922913]"
      ]
     },
     "execution_count": 21,
     "metadata": {},
     "output_type": "execute_result"
    }
   ],
   "source": [
    "model.evaluate(test_ds)"
   ]
  }
 ],
 "metadata": {
  "colab": {
   "provenance": []
  },
  "kernelspec": {
   "display_name": "Python 3 (ipykernel)",
   "language": "python",
   "name": "python3"
  },
  "language_info": {
   "codemirror_mode": {
    "name": "ipython",
    "version": 3
   },
   "file_extension": ".py",
   "mimetype": "text/x-python",
   "name": "python",
   "nbconvert_exporter": "python",
   "pygments_lexer": "ipython3",
   "version": "3.12.4"
  }
 },
 "nbformat": 4,
 "nbformat_minor": 4
}
